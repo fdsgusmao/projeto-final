{
  "cells": [
    {
      "cell_type": "markdown",
      "metadata": {
        "id": "view-in-github",
        "colab_type": "text"
      },
      "source": [
        "<a href=\"https://colab.research.google.com/github/fdsgusmao/projeto-final/blob/main/projeto-final.ipynb\" target=\"_parent\"><img src=\"https://colab.research.google.com/assets/colab-badge.svg\" alt=\"Open In Colab\"/></a>"
      ]
    },
    {
      "cell_type": "markdown",
      "source": [
        "## Download do corpus"
      ],
      "metadata": {
        "id": "exhm2xkt4FiF"
      }
    },
    {
      "cell_type": "code",
      "execution_count": 1,
      "metadata": {
        "id": "Vw4v0lEweqL6"
      },
      "outputs": [],
      "source": [
        "import pandas as pd\n",
        "import numpy as np\n",
        "import glob"
      ]
    },
    {
      "cell_type": "code",
      "execution_count": null,
      "metadata": {
        "id": "0cLcHtRve2EQ"
      },
      "outputs": [],
      "source": [
        "!apt install subversion"
      ]
    },
    {
      "cell_type": "code",
      "execution_count": null,
      "metadata": {
        "id": "Sdb063HNgIIj"
      },
      "outputs": [],
      "source": [
        "!svn checkout https://github.com/roneysco/Fake.br-Corpus/"
      ]
    },
    {
      "cell_type": "markdown",
      "source": [
        "## Estruturando o dataset"
      ],
      "metadata": {
        "id": "FuxeeLSk4Qc5"
      }
    },
    {
      "cell_type": "code",
      "execution_count": 4,
      "metadata": {
        "id": "_qj72-UlH9yp"
      },
      "outputs": [],
      "source": [
        "# Pegando todos os nomes dos arquivos txt\n",
        "fake_folder_path = '/content/Fake.br-Corpus/trunk/full_texts/fake'\n",
        "true_folder_path = '/content/Fake.br-Corpus/trunk/full_texts/true'\n",
        "true_file_list = glob.glob(true_folder_path + \"/*.txt\")\n",
        "fake_file_list = glob.glob(fake_folder_path + \"/*.txt\")"
      ]
    },
    {
      "cell_type": "code",
      "execution_count": 5,
      "metadata": {
        "id": "oOLuAoGAS6Tb"
      },
      "outputs": [],
      "source": [
        "true_news_list = []\n",
        "for i in range(0,len(true_file_list)):\n",
        "  # Abrindo todos os txt's\n",
        "  with open(true_file_list[i], 'r') as file:\n",
        "      # Tratando o txt e colocando numa lista\n",
        "      data = file.read().replace('\\n', '')\n",
        "      true_news_list.append(data)\n",
        "\n",
        "fake_news_list = []\n",
        "for i in range(0,len(fake_file_list)):\n",
        "  # Abrindo todos os txt's\n",
        "  with open(fake_file_list[i], 'r') as file:\n",
        "      # Tratando o txt e colocando numa lista\n",
        "      data = file.read().replace('\\n', '')\n",
        "      fake_news_list.append(data)"
      ]
    },
    {
      "cell_type": "code",
      "execution_count": null,
      "metadata": {
        "id": "uqkbLqQ9YgH1"
      },
      "outputs": [],
      "source": [
        "# Transformando as strings de notícias em um DataFrame do pandas\n",
        "df1 = pd.DataFrame()\n",
        "df1['news'] = true_news_list\n",
        "df1['fake'] = 0\n",
        "\n",
        "df2 = pd.DataFrame()\n",
        "df2['news'] = fake_news_list\n",
        "df2['fake'] = 1\n",
        "\n",
        "# Concatenando os DataFrames de fake e real news\n",
        "main_df = pd.DataFrame()\n",
        "main_df = main_df.append(df1, ignore_index = True)\n",
        "main_df = main_df.append(df2, ignore_index = True)"
      ]
    },
    {
      "cell_type": "markdown",
      "source": [
        "## Preprocessamento"
      ],
      "metadata": {
        "id": "n1WM_QNx60vS"
      }
    },
    {
      "cell_type": "code",
      "execution_count": null,
      "metadata": {
        "id": "KHYrKwrCi0ZB"
      },
      "outputs": [],
      "source": [
        "# Importando o spacy e carregando o pipeline para fazer o preprocessamento\n",
        "import spacy\n",
        "import locale\n",
        "locale.getpreferredencoding = lambda: \"UTF-8\"\n",
        "!python -m spacy download pt_core_news_sm\n",
        "nlp = spacy.load('pt_core_news_sm', exclude=['tok2vec', 'parser', 'lemmatizer', 'attribute_ruler', 'ner'])"
      ]
    },
    {
      "cell_type": "code",
      "execution_count": 8,
      "metadata": {
        "id": "4mfNXnMShV8U"
      },
      "outputs": [],
      "source": [
        "# Definindo a função de preprocessamento\n",
        "def preprocessed(text):\n",
        "  doc = nlp(text)\n",
        "  preprocessedText = [t for t in doc if t.is_punct == 0 if t.is_stop == 0]\n",
        "  preprocessedText = ' '.join(str(e) for e in preprocessedText)\n",
        "  return preprocessedText"
      ]
    },
    {
      "cell_type": "code",
      "execution_count": 9,
      "metadata": {
        "id": "ievVRU5Djc6t"
      },
      "outputs": [],
      "source": [
        "# Aplicando a função de preprocessamento em todas as notícias do DataFrame\n",
        "main_df['preprocessed_news'] = main_df['news'].apply(preprocessed)"
      ]
    },
    {
      "cell_type": "markdown",
      "source": [
        "## Setup de treinamento"
      ],
      "metadata": {
        "id": "1yzgdI-d668_"
      }
    },
    {
      "cell_type": "code",
      "source": [
        "# Instalando o pacote transform\n",
        "!pip3 install transformers"
      ],
      "metadata": {
        "id": "ydPz_a_Whs7i"
      },
      "execution_count": null,
      "outputs": []
    },
    {
      "cell_type": "code",
      "metadata": {
        "id": "yDCgnNlzcCsA"
      },
      "source": [
        "# Imports que serão utilizados no treinamento\n",
        "import seaborn as sns\n",
        "import torch\n",
        "from torch import optim\n",
        "from transformers import AutoTokenizer, AutoModelForSequenceClassification\n",
        "from sklearn.metrics import accuracy_score, f1_score, classification_report, confusion_matrix\n",
        "from sklearn.model_selection import train_test_split"
      ],
      "execution_count": 11,
      "outputs": []
    },
    {
      "cell_type": "code",
      "source": [
        "# Separação do dataset em treino, teste e validação\n",
        "X_train,X_test,y_train,y_test=train_test_split(main_df.preprocessed_news,main_df.fake,test_size=0.2,random_state=42)\n",
        "\n",
        "trainset = pd.concat([X_train,y_train],axis=1).to_dict('records')\n",
        "testset = pd.concat([X_test,y_test],axis=1).to_dict('records')\n",
        "\n",
        "from torch.utils.data import DataLoader\n",
        "batch_size = 16\n",
        "\n",
        "traindata = DataLoader(trainset, batch_size=batch_size, shuffle=True)\n",
        "testdata = DataLoader(testset, batch_size=batch_size, shuffle=True)"
      ],
      "metadata": {
        "id": "Nki79pDyanky"
      },
      "execution_count": 12,
      "outputs": []
    },
    {
      "cell_type": "code",
      "metadata": {
        "id": "icMF0E_R8h9W"
      },
      "source": [
        "# Configurações de treino\n",
        "device = torch.device('cuda:0' if torch.cuda.is_available() else 'cpu')\n",
        "nclasses = 2\n",
        "batch_status = 32\n",
        "learning_rate = 5e-5\n",
        "\n",
        "max_length = 180"
      ],
      "execution_count": 13,
      "outputs": []
    },
    {
      "cell_type": "code",
      "metadata": {
        "id": "pakJtpBXl24V"
      },
      "source": [
        "# Definindo a função de avaliação\n",
        "def evaluate(model, tokenizer, testdata):\n",
        "  model.eval()\n",
        "  y_real, y_pred = [], []\n",
        "  for batch_idx, inp in enumerate(testdata):\n",
        "    texts, labels = inp['preprocessed_news'], inp['fake']\n",
        "    \n",
        "    inputs = tokenizer(texts, return_tensors='pt', padding=True, truncation=True, max_length=max_length).to(device)\n",
        "    output = model(**inputs)\n",
        "                \n",
        "    pred_labels = torch.argmax(output.logits, 1)\n",
        "    \n",
        "    y_real.extend(labels.tolist())\n",
        "    y_pred.extend(pred_labels.tolist())\n",
        "    \n",
        "    if (batch_idx+1) % batch_status == 0:\n",
        "      print('EVALUATION Progress:', round(batch_idx / len(testdata), 2), batch_idx)\n",
        "  \n",
        "  print(classification_report(y_real, y_pred, labels=[0, 1], target_names=['True', 'Fake']))\n",
        "  f1 = f1_score(y_real, y_pred, average='weighted')\n",
        "  acc = accuracy_score(y_real, y_pred)\n",
        "  return f1, acc"
      ],
      "execution_count": 14,
      "outputs": []
    },
    {
      "cell_type": "code",
      "metadata": {
        "id": "dU2ucC72K0Wc"
      },
      "source": [
        "# Definindo a função de avaliação\n",
        "def display_confusion_matrix(model, tokenizer, testdata):\n",
        "  model.eval()\n",
        "  y_real, y_pred = [], []\n",
        "  for batch_idx, inp in enumerate(testdata):\n",
        "    texts, labels = inp['preprocessed_news'], inp['fake']\n",
        "    \n",
        "    inputs = tokenizer(texts, return_tensors='pt', padding=True, truncation=True, max_length=max_length).to(device)\n",
        "    output = model(**inputs)\n",
        "                \n",
        "    pred_labels = torch.argmax(output.logits, 1)\n",
        "    \n",
        "    y_real.extend(labels.tolist())\n",
        "    y_pred.extend(pred_labels.tolist())\n",
        "\n",
        "  cf_matrix = confusion_matrix(y_real, y_pred)\n",
        "  group_names = ['VP','FN','FP','VN']\n",
        "  group_counts = [\"{0:0.0f}\".format(value) for value in cf_matrix.flatten()]\n",
        "  group_percentages = [\"{0:.2%}\".format(value) for value in cf_matrix.flatten()/np.sum(cf_matrix)]\n",
        "  labels = [f\"{v1}\\n{v2}\\n{v3}\" for v1, v2, v3 in zip(group_names,group_counts,group_percentages)]\n",
        "  labels = np.asarray(labels).reshape(2,2)\n",
        "  sns.heatmap(cf_matrix, annot=labels, fmt='', cmap='YlOrBr', xticklabels=['true','fake'], yticklabels=['true','fake']).set(\n",
        "        xlabel='Gabarito', ylabel='Predição'\n",
        "      )"
      ],
      "execution_count": 32,
      "outputs": []
    },
    {
      "cell_type": "code",
      "source": [
        "# Definindo função de treinamento\n",
        "def train(model, tokenizer, nepochs):\n",
        "  for epoch in range(nepochs):\n",
        "    model.train()\n",
        "    losses = []\n",
        "    for batch_idx, inp in enumerate(traindata):\n",
        "      texts, labels = inp['preprocessed_news'], inp['fake']\n",
        "\n",
        "      # Classificação\n",
        "      inputs = tokenizer(texts, return_tensors='pt', padding=True, truncation=True, max_length=max_length).to(device)\n",
        "      output = model(**inputs, labels=labels.to(device))\n",
        "\n",
        "      # Cálculo do Loss\n",
        "      loss = output.loss\n",
        "      losses.append(float(loss))\n",
        "\n",
        "      # Backpropagation\n",
        "      loss.backward()\n",
        "      optimizer.step()\n",
        "      optimizer.zero_grad()\n",
        "\n",
        "      # Display de progresso\n",
        "      if (batch_idx+1) % batch_status == 0:\n",
        "        print('Train Epoch: {} [{}/{} ({:.0f}%)]\\tLoss: {:.6f}\\tTotal Loss: {:.6f}'.format(epoch + 1, \\\n",
        "          batch_idx+1, len(traindata), 100. * batch_idx / len(traindata), \n",
        "          float(loss), round(sum(losses) / len(losses), 5)))\n",
        "    \n",
        "    f1, acc = evaluate(model, tokenizer, testdata)\n",
        "    print('F1: ', f1, 'Accuracy: ', acc)"
      ],
      "metadata": {
        "id": "tBGfjZLCbcTy"
      },
      "execution_count": 19,
      "outputs": []
    },
    {
      "cell_type": "markdown",
      "source": [
        "## Treinando o BERT"
      ],
      "metadata": {
        "id": "bqlm6lbM0ICM"
      }
    },
    {
      "cell_type": "code",
      "source": [
        "# Baixando o modelo\n",
        "bert_tokenizer = AutoTokenizer.from_pretrained('bert-base-uncased', do_lower_case=False)\n",
        "bert_model = AutoModelForSequenceClassification.from_pretrained('bert-base-uncased', num_labels=nclasses).to(device)\n",
        "\n",
        "# Configurando o optimizador\n",
        "optimizer = optim.AdamW(bert_model.parameters(), lr=learning_rate)"
      ],
      "metadata": {
        "id": "qp0_FzuGTR38"
      },
      "execution_count": null,
      "outputs": []
    },
    {
      "cell_type": "code",
      "source": [
        "train(bert_model, bert_tokenizer, 2)"
      ],
      "metadata": {
        "id": "Y8FRj-7Y-ru-",
        "colab": {
          "base_uri": "https://localhost:8080/"
        },
        "outputId": "26377177-2d03-4123-c2fd-8cf16d1f0fbd"
      },
      "execution_count": 30,
      "outputs": [
        {
          "output_type": "stream",
          "name": "stdout",
          "text": [
            "Train Epoch: 1 [32/360 (9%)]\tLoss: 0.758040\tTotal Loss: 0.713130\n",
            "Train Epoch: 1 [64/360 (18%)]\tLoss: 0.586741\tTotal Loss: 0.688300\n",
            "Train Epoch: 1 [96/360 (26%)]\tLoss: 0.596564\tTotal Loss: 0.686760\n",
            "Train Epoch: 1 [128/360 (35%)]\tLoss: 0.596471\tTotal Loss: 0.677890\n",
            "Train Epoch: 1 [160/360 (44%)]\tLoss: 0.479448\tTotal Loss: 0.653520\n",
            "Train Epoch: 1 [192/360 (53%)]\tLoss: 0.510067\tTotal Loss: 0.622680\n",
            "Train Epoch: 1 [224/360 (62%)]\tLoss: 0.570554\tTotal Loss: 0.593150\n",
            "Train Epoch: 1 [256/360 (71%)]\tLoss: 0.586150\tTotal Loss: 0.569750\n",
            "Train Epoch: 1 [288/360 (80%)]\tLoss: 0.393483\tTotal Loss: 0.552820\n",
            "Train Epoch: 1 [320/360 (89%)]\tLoss: 0.318192\tTotal Loss: 0.541760\n",
            "Train Epoch: 1 [352/360 (98%)]\tLoss: 0.548810\tTotal Loss: 0.525360\n",
            "EVALUATION Progress: 0.34 31\n",
            "EVALUATION Progress: 0.7 63\n",
            "              precision    recall  f1-score   support\n",
            "\n",
            "        True       0.76      0.97      0.85       718\n",
            "        Fake       0.95      0.70      0.81       722\n",
            "\n",
            "    accuracy                           0.83      1440\n",
            "   macro avg       0.86      0.83      0.83      1440\n",
            "weighted avg       0.86      0.83      0.83      1440\n",
            "\n",
            "F1:  0.8289683053660689 Accuracy:  0.8319444444444445\n",
            "Train Epoch: 2 [32/360 (9%)]\tLoss: 0.393922\tTotal Loss: 0.334000\n",
            "Train Epoch: 2 [64/360 (18%)]\tLoss: 0.229782\tTotal Loss: 0.333420\n",
            "Train Epoch: 2 [96/360 (26%)]\tLoss: 0.353191\tTotal Loss: 0.318410\n",
            "Train Epoch: 2 [128/360 (35%)]\tLoss: 0.454577\tTotal Loss: 0.327420\n",
            "Train Epoch: 2 [160/360 (44%)]\tLoss: 0.381109\tTotal Loss: 0.336440\n",
            "Train Epoch: 2 [192/360 (53%)]\tLoss: 0.173278\tTotal Loss: 0.346180\n",
            "Train Epoch: 2 [224/360 (62%)]\tLoss: 0.405539\tTotal Loss: 0.348910\n",
            "Train Epoch: 2 [256/360 (71%)]\tLoss: 0.427818\tTotal Loss: 0.351770\n",
            "Train Epoch: 2 [288/360 (80%)]\tLoss: 0.238934\tTotal Loss: 0.344020\n",
            "Train Epoch: 2 [320/360 (89%)]\tLoss: 0.344158\tTotal Loss: 0.333340\n",
            "Train Epoch: 2 [352/360 (98%)]\tLoss: 0.048039\tTotal Loss: 0.328940\n",
            "EVALUATION Progress: 0.34 31\n",
            "EVALUATION Progress: 0.7 63\n",
            "              precision    recall  f1-score   support\n",
            "\n",
            "        True       0.79      0.98      0.87       718\n",
            "        Fake       0.97      0.74      0.84       722\n",
            "\n",
            "    accuracy                           0.86      1440\n",
            "   macro avg       0.88      0.86      0.85      1440\n",
            "weighted avg       0.88      0.86      0.85      1440\n",
            "\n",
            "F1:  0.8548749069409802 Accuracy:  0.8569444444444444\n"
          ]
        }
      ]
    },
    {
      "cell_type": "markdown",
      "source": [
        "## Treinando o DistilBERT"
      ],
      "metadata": {
        "id": "X8Rw0fTm4K_M"
      }
    },
    {
      "cell_type": "code",
      "source": [
        "# Baixando o modelo\n",
        "distil_tokenizer = AutoTokenizer.from_pretrained('distilbert-base-uncased', do_lower_case=False)\n",
        "distil_model = AutoModelForSequenceClassification.from_pretrained('distilbert-base-uncased', num_labels=nclasses).to(device)\n",
        "\n",
        "# Configurando o optimizador\n",
        "optimizer = optim.AdamW(distil_model.parameters(), lr=learning_rate)"
      ],
      "metadata": {
        "id": "KL5lzLDi4K_O"
      },
      "execution_count": null,
      "outputs": []
    },
    {
      "cell_type": "code",
      "source": [
        "train(distil_model, distil_tokenizer, 2)"
      ],
      "metadata": {
        "id": "-0Uo1iHeEsex",
        "colab": {
          "base_uri": "https://localhost:8080/"
        },
        "outputId": "6481c262-2b79-4b08-9a60-5c5fc67a0065"
      },
      "execution_count": 22,
      "outputs": [
        {
          "output_type": "stream",
          "name": "stdout",
          "text": [
            "Train Epoch: 1 [32/360 (9%)]\tLoss: 0.458862\tTotal Loss: 0.647080\n",
            "Train Epoch: 1 [64/360 (18%)]\tLoss: 0.572820\tTotal Loss: 0.620870\n",
            "Train Epoch: 1 [96/360 (26%)]\tLoss: 0.647055\tTotal Loss: 0.584080\n",
            "Train Epoch: 1 [128/360 (35%)]\tLoss: 0.476942\tTotal Loss: 0.541450\n",
            "Train Epoch: 1 [160/360 (44%)]\tLoss: 0.116013\tTotal Loss: 0.507690\n",
            "Train Epoch: 1 [192/360 (53%)]\tLoss: 0.648312\tTotal Loss: 0.492000\n",
            "Train Epoch: 1 [224/360 (62%)]\tLoss: 0.218412\tTotal Loss: 0.470480\n",
            "Train Epoch: 1 [256/360 (71%)]\tLoss: 0.246228\tTotal Loss: 0.451560\n",
            "Train Epoch: 1 [288/360 (80%)]\tLoss: 0.186746\tTotal Loss: 0.439100\n",
            "Train Epoch: 1 [320/360 (89%)]\tLoss: 0.386747\tTotal Loss: 0.427280\n",
            "Train Epoch: 1 [352/360 (98%)]\tLoss: 0.172155\tTotal Loss: 0.419380\n",
            "EVALUATION Progress: 0.34 31\n",
            "EVALUATION Progress: 0.7 63\n",
            "              precision    recall  f1-score   support\n",
            "\n",
            "        True       0.79      0.98      0.87       718\n",
            "        Fake       0.97      0.74      0.84       722\n",
            "\n",
            "    accuracy                           0.86      1440\n",
            "   macro avg       0.88      0.86      0.86      1440\n",
            "weighted avg       0.88      0.86      0.86      1440\n",
            "\n",
            "F1:  0.85628388842699 Accuracy:  0.8583333333333333\n",
            "Train Epoch: 2 [32/360 (9%)]\tLoss: 0.270031\tTotal Loss: 0.225790\n",
            "Train Epoch: 2 [64/360 (18%)]\tLoss: 0.274074\tTotal Loss: 0.243690\n",
            "Train Epoch: 2 [96/360 (26%)]\tLoss: 0.421331\tTotal Loss: 0.243580\n",
            "Train Epoch: 2 [128/360 (35%)]\tLoss: 0.354969\tTotal Loss: 0.243600\n",
            "Train Epoch: 2 [160/360 (44%)]\tLoss: 0.046030\tTotal Loss: 0.246550\n",
            "Train Epoch: 2 [192/360 (53%)]\tLoss: 0.133943\tTotal Loss: 0.240090\n",
            "Train Epoch: 2 [224/360 (62%)]\tLoss: 0.242337\tTotal Loss: 0.237120\n",
            "Train Epoch: 2 [256/360 (71%)]\tLoss: 0.323529\tTotal Loss: 0.234950\n",
            "Train Epoch: 2 [288/360 (80%)]\tLoss: 0.139215\tTotal Loss: 0.237560\n",
            "Train Epoch: 2 [320/360 (89%)]\tLoss: 0.205685\tTotal Loss: 0.231480\n",
            "Train Epoch: 2 [352/360 (98%)]\tLoss: 0.206030\tTotal Loss: 0.233710\n",
            "EVALUATION Progress: 0.34 31\n",
            "EVALUATION Progress: 0.7 63\n",
            "              precision    recall  f1-score   support\n",
            "\n",
            "        True       0.83      0.97      0.89       718\n",
            "        Fake       0.96      0.80      0.88       722\n",
            "\n",
            "    accuracy                           0.89      1440\n",
            "   macro avg       0.90      0.89      0.89      1440\n",
            "weighted avg       0.90      0.89      0.89      1440\n",
            "\n",
            "F1:  0.8853676236029177 Accuracy:  0.8861111111111111\n"
          ]
        }
      ]
    },
    {
      "cell_type": "markdown",
      "source": [
        "## Treinando o BERTimbau"
      ],
      "metadata": {
        "id": "gDpU6XCc0d1E"
      }
    },
    {
      "cell_type": "code",
      "source": [
        "# Baixando o modelo\n",
        "bertimbau_tokenizer = AutoTokenizer.from_pretrained('neuralmind/bert-base-portuguese-cased', do_lower_case=False)\n",
        "bertimbau_model = AutoModelForSequenceClassification.from_pretrained('neuralmind/bert-base-portuguese-cased', num_labels=nclasses).to(device)\n",
        "\n",
        "# Configurando o optimizador\n",
        "optimizer = optim.AdamW(bertimbau_model.parameters(), lr=learning_rate)"
      ],
      "metadata": {
        "id": "WRIjDwa30d1G"
      },
      "execution_count": null,
      "outputs": []
    },
    {
      "cell_type": "code",
      "source": [
        "train(bertimbau_model, bertimbau_tokenizer, 1)"
      ],
      "metadata": {
        "id": "B14RSKrjB8iM",
        "colab": {
          "base_uri": "https://localhost:8080/"
        },
        "outputId": "179d0ed7-f039-4344-dfd0-4c8475d54e91"
      },
      "execution_count": 24,
      "outputs": [
        {
          "output_type": "stream",
          "name": "stdout",
          "text": [
            "Train Epoch: 1 [32/360 (9%)]\tLoss: 0.330689\tTotal Loss: 0.579830\n",
            "Train Epoch: 1 [64/360 (18%)]\tLoss: 0.309778\tTotal Loss: 0.450010\n",
            "Train Epoch: 1 [96/360 (26%)]\tLoss: 0.209724\tTotal Loss: 0.384200\n",
            "Train Epoch: 1 [128/360 (35%)]\tLoss: 0.139959\tTotal Loss: 0.350080\n",
            "Train Epoch: 1 [160/360 (44%)]\tLoss: 0.052170\tTotal Loss: 0.316490\n",
            "Train Epoch: 1 [192/360 (53%)]\tLoss: 0.234197\tTotal Loss: 0.295290\n",
            "Train Epoch: 1 [224/360 (62%)]\tLoss: 0.089563\tTotal Loss: 0.279070\n",
            "Train Epoch: 1 [256/360 (71%)]\tLoss: 0.103112\tTotal Loss: 0.261180\n",
            "Train Epoch: 1 [288/360 (80%)]\tLoss: 0.141297\tTotal Loss: 0.257730\n",
            "Train Epoch: 1 [320/360 (89%)]\tLoss: 0.032022\tTotal Loss: 0.247910\n",
            "Train Epoch: 1 [352/360 (98%)]\tLoss: 0.100473\tTotal Loss: 0.235540\n",
            "EVALUATION Progress: 0.34 31\n",
            "EVALUATION Progress: 0.7 63\n",
            "              precision    recall  f1-score   support\n",
            "\n",
            "        True       0.95      0.98      0.97       718\n",
            "        Fake       0.98      0.95      0.96       722\n",
            "\n",
            "    accuracy                           0.97      1440\n",
            "   macro avg       0.97      0.97      0.97      1440\n",
            "weighted avg       0.97      0.97      0.97      1440\n",
            "\n",
            "F1:  0.9652697386755846 Accuracy:  0.9652777777777778\n"
          ]
        }
      ]
    },
    {
      "cell_type": "markdown",
      "source": [
        "## Resultados"
      ],
      "metadata": {
        "id": "wBAKwxonaYyy"
      }
    },
    {
      "cell_type": "code",
      "source": [
        "display_confusion_matrix(bert_model, bert_tokenizer,testdata)"
      ],
      "metadata": {
        "id": "xStHGT4SKO_c",
        "colab": {
          "base_uri": "https://localhost:8080/",
          "height": 454
        },
        "outputId": "c9509706-ec8f-499c-e15b-cce8e38c2a18"
      },
      "execution_count": 33,
      "outputs": [
        {
          "output_type": "display_data",
          "data": {
            "text/plain": [
              "<Figure size 640x480 with 2 Axes>"
            ],
            "image/png": "[encoded data removed]"
          },
          "metadata": {}
        }
      ]
    },
    {
      "cell_type": "code",
      "source": [
        "display_confusion_matrix(distil_model, distil_tokenizer,testdata)"
      ],
      "metadata": {
        "id": "vdvn6Ag6ZwAD",
        "colab": {
          "base_uri": "https://localhost:8080/",
          "height": 449
        },
        "outputId": "96547fe4-c182-4e70-a13e-91a6f9b70407"
      },
      "execution_count": 34,
      "outputs": [
        {
          "output_type": "display_data",
          "data": {
            "text/plain": [
              "<Figure size 640x480 with 2 Axes>"
            ],
            "image/png": "[encoded data removed]"
          },
          "metadata": {}
        }
      ]
    },
    {
      "cell_type": "code",
      "source": [
        "display_confusion_matrix(bertimbau_model, bertimbau_tokenizer,testdata)"
      ],
      "metadata": {
        "id": "8myTtC-rZw7j",
        "colab": {
          "base_uri": "https://localhost:8080/",
          "height": 452
        },
        "outputId": "bdd4a31f-5f10-4dae-d3a2-03f5b0c8e757"
      },
      "execution_count": 35,
      "outputs": [
        {
          "output_type": "display_data",
          "data": {
            "text/plain": [
              "<Figure size 640x480 with 2 Axes>"
            ],
            "image/png": "[encoded data removed]"
          },
          "metadata": {}
        }
      ]
    }
  ],
  "metadata": {
    "colab": {
      "provenance": [],
      "gpuType": "T4",
      "collapsed_sections": [
        "exhm2xkt4FiF",
        "FuxeeLSk4Qc5",
        "n1WM_QNx60vS",
        "1yzgdI-d668_",
        "bqlm6lbM0ICM",
        "X8Rw0fTm4K_M",
        "gDpU6XCc0d1E",
        "wBAKwxonaYyy"
      ],
      "authorship_tag": "ABX9TyOA68BnAII4TNFJ237m5sq5",
      "include_colab_link": true
    },
    "kernelspec": {
      "display_name": "Python 3",
      "name": "python3"
    },
    "language_info": {
      "name": "python"
    },
    "accelerator": "GPU"
  },
  "nbformat": 4,
  "nbformat_minor": 0
}